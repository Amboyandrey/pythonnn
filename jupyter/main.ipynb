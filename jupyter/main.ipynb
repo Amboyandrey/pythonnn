{
 "cells": [
  {
   "cell_type": "code",
   "execution_count": 3,
   "metadata": {},
   "outputs": [
    {
     "name": "stdout",
     "output_type": "stream",
     "text": [
      "[[ 8 10 12]\n",
      " [14 16 18]]\n"
     ]
    }
   ],
   "source": [
    "# Amboy Numpy Activity\n",
    "\n",
    "import numpy as np\n",
    "\n",
    "a = np.array([[1,2,3], [4,5,6]])\n",
    "b = np.array([[7,8,9], [10,11,12]])\n",
    "\n",
    "print (a + b)"
   ]
  },
  {
   "cell_type": "code",
   "execution_count": 5,
   "metadata": {},
   "outputs": [
    {
     "name": "stdout",
     "output_type": "stream",
     "text": [
      "[[ 2  4  6]\n",
      " [20 22 30]]\n"
     ]
    }
   ],
   "source": [
    "a = np.array([[1,2,3], [10,11,15]])\n",
    "b = 2 * a\n",
    "\n",
    "print(b)"
   ]
  },
  {
   "cell_type": "code",
   "execution_count": 6,
   "metadata": {},
   "outputs": [
    {
     "name": "stdout",
     "output_type": "stream",
     "text": [
      "[[100 150 200]\n",
      " [ 10  15  20]]\n"
     ]
    }
   ],
   "source": [
    "z = np.array([[20,30,40], [2,3,4]])\n",
    "r = z * 5\n",
    "\n",
    "print(r)"
   ]
  },
  {
   "cell_type": "code",
   "execution_count": 7,
   "metadata": {},
   "outputs": [
    {
     "name": "stdout",
     "output_type": "stream",
     "text": [
      "[[ 5 10 15 20 25]\n",
      " [33 33 44 55 30]]\n"
     ]
    }
   ],
   "source": [
    "g = np.array([[2,4,6,8,10], [11,12,13,14,15]])\n",
    "j = np.array([[3,6,9,12,15], [22,21,31,41,15]])\n",
    "c = g + j\n",
    "\n",
    "print(c)"
   ]
  }
 ],
 "metadata": {
  "kernelspec": {
   "display_name": "Python 3 (ipykernel)",
   "language": "python",
   "name": "python3"
  },
  "language_info": {
   "codemirror_mode": {
    "name": "ipython",
    "version": 3
   },
   "file_extension": ".py",
   "mimetype": "text/x-python",
   "name": "python",
   "nbconvert_exporter": "python",
   "pygments_lexer": "ipython3",
   "version": "3.10.12"
  }
 },
 "nbformat": 4,
 "nbformat_minor": 4
}
